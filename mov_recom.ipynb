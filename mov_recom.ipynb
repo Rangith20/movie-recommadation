{
  "nbformat": 4,
  "nbformat_minor": 0,
  "metadata": {
    "colab": {
      "name": "mov recom.ipynb",
      "provenance": [],
      "private_outputs": true,
      "collapsed_sections": [],
      "authorship_tag": "ABX9TyMK+4pfm1nhrl6zAiQgXBXb",
      "include_colab_link": true
    },
    "kernelspec": {
      "name": "python3",
      "display_name": "Python 3"
    }
  },
  "cells": [
    {
      "cell_type": "markdown",
      "metadata": {
        "id": "view-in-github",
        "colab_type": "text"
      },
      "source": [
        "<a href=\"https://colab.research.google.com/github/Rangith20/movie-recommadation/blob/main/mov_recom.ipynb\" target=\"_parent\"><img src=\"https://colab.research.google.com/assets/colab-badge.svg\" alt=\"Open In Colab\"/></a>"
      ]
    },
    {
      "cell_type": "code",
      "metadata": {
        "id": "_Jkqg3z2-Ytf"
      },
      "source": [
        "from google.colab import files\n",
        "uploaded = files.upload()\n"
      ],
      "execution_count": null,
      "outputs": []
    },
    {
      "cell_type": "code",
      "metadata": {
        "id": "F6MuR3FK1jc7"
      },
      "source": [
        "# import pandas library \n",
        "import pandas as pd \n",
        "  \n",
        "# Get the data \n",
        "column_names = ['user_id', 'item_id', 'rating', 'timestamp'] \n",
        "  \n",
        "path = '/content/file.tsv'\n",
        "  \n",
        "df = pd.read_csv(path, sep='\\t', names=column_names) \n",
        "  \n",
        "# Check the head of the data \n",
        "df.head() \n"
      ],
      "execution_count": null,
      "outputs": []
    },
    {
      "cell_type": "code",
      "metadata": {
        "id": "56Rwi0FH2j0l"
      },
      "source": [
        "# Check out all the movies and their respective IDs \n",
        "movie_titles = pd.read_csv('/content/Movie_Id_Titles.csv') \n",
        "movie_titles.head(1000000) "
      ],
      "execution_count": null,
      "outputs": []
    },
    {
      "cell_type": "code",
      "metadata": {
        "id": "MXZbZfSJ3etF"
      },
      "source": [
        "data = pd.merge(df, movie_titles, on='item_id') \n",
        "data.head(10) "
      ],
      "execution_count": null,
      "outputs": []
    },
    {
      "cell_type": "code",
      "metadata": {
        "id": "NMoXz3CO30z9"
      },
      "source": [
        "# Calculate mean rating of all movies \n",
        "data.groupby('title')['rating'].mean().sort_values(ascending=False).head() \n"
      ],
      "execution_count": null,
      "outputs": []
    },
    {
      "cell_type": "code",
      "metadata": {
        "id": "-oZBz4-7JFyL"
      },
      "source": [
        "# Calculate count rating of all movies \n",
        "data.groupby('title')['rating'].count().sort_values(ascending=False).head(50) \n"
      ],
      "execution_count": null,
      "outputs": []
    },
    {
      "cell_type": "code",
      "metadata": {
        "id": "wJgWEd_SJU9U"
      },
      "source": [
        "# creating dataframe with 'rating' count values \n",
        "ratings = pd.DataFrame(data.groupby('title')['rating'].mean())  \n",
        "  \n",
        "ratings['num of ratings'] = pd.DataFrame(data.groupby('title')['rating'].count()) \n",
        "  \n",
        "ratings.head(100000) "
      ],
      "execution_count": null,
      "outputs": []
    },
    {
      "cell_type": "code",
      "metadata": {
        "id": "fev-KR9WKsR2"
      },
      "source": [
        "import matplotlib.pyplot as plt \n",
        "import seaborn as sns \n",
        "  \n",
        "sns.set_style('white') \n",
        "%matplotlib inline \n",
        "\n",
        "# plot graph of 'num of ratings column' \n",
        "plt.figure(figsize =(10, 5)) \n",
        "  \n",
        "ratings['num of ratings'].hist(bins = 70) "
      ],
      "execution_count": null,
      "outputs": []
    },
    {
      "cell_type": "code",
      "metadata": {
        "id": "m8Xo7Y7jMLa7"
      },
      "source": [
        "# plot graph of 'ratings' column \n",
        "plt.figure(figsize =(10, 4)) \n",
        "  \n",
        "ratings['rating'].hist(bins = 70) "
      ],
      "execution_count": null,
      "outputs": []
    },
    {
      "cell_type": "code",
      "metadata": {
        "id": "4HnD7J3DMbik"
      },
      "source": [
        "# Sorting values according to  \n",
        "# the 'num of rating column' \n",
        "moviemat = data.pivot_table(index ='user_id', columns ='title', values ='rating') \n",
        "  \n",
        "moviemat.head() \n",
        "  \n",
        "ratings.sort_values('num of ratings', ascending = False).head(10) "
      ],
      "execution_count": null,
      "outputs": []
    },
    {
      "cell_type": "code",
      "metadata": {
        "id": "AdgWf_l7YKDT"
      },
      "source": [
        "# analysing correlation with similar movies \n",
        "starwars_user_ratings = moviemat['Star Wars (1977)'] \n",
        "liarliar_user_ratings = moviemat['Liar Liar (1997)'] \n",
        "  \n",
        "starwars_user_ratings.head() \n"
      ],
      "execution_count": null,
      "outputs": []
    },
    {
      "cell_type": "code",
      "metadata": {
        "id": "izxlFEh4YekO"
      },
      "source": [
        "# analysing correlation with similar movies \n",
        "similar_to_starwars = moviemat.corrwith(starwars_user_ratings) \n",
        "similar_to_liarliar = moviemat.corrwith(liarliar_user_ratings) \n",
        "  \n",
        "corr_starwars = pd.DataFrame(similar_to_starwars, columns =['Correlation']) \n",
        "corr_starwars.dropna(inplace = True) \n",
        "  \n",
        "corr_starwars.head() "
      ],
      "execution_count": null,
      "outputs": []
    },
    {
      "cell_type": "code",
      "metadata": {
        "id": "1Wy6GEhYYuKc"
      },
      "source": [
        "# Similar movies like starwars \n",
        "corr_starwars.sort_values('Correlation', ascending = False).head(10) \n",
        "corr_starwars = corr_starwars.join(ratings['num of ratings']) \n",
        "  \n",
        "corr_starwars.head() \n",
        "  \n",
        "corr_starwars[corr_starwars['num of ratings']>100].sort_values('Correlation', ascending = False).head() "
      ],
      "execution_count": null,
      "outputs": []
    }
  ]
}